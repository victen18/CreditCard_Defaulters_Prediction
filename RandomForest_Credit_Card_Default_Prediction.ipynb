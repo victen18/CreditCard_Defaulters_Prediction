{
 "cells": [
  {
   "cell_type": "code",
   "execution_count": 27,
   "metadata": {},
   "outputs": [],
   "source": [
    "import pandas as pd\n",
    "import numpy as np\n",
    "import matplotlib.pyplot as plt\n",
    "import seaborn as sns\n",
    "import sklearn\n",
    "%matplotlib inline\n",
    "\n",
    "pd.set_option('display.max_columns',None)"
   ]
  },
  {
   "cell_type": "code",
   "execution_count": 3,
   "metadata": {},
   "outputs": [],
   "source": [
    "df = pd.read_csv('credit-card-default.csv')"
   ]
  },
  {
   "cell_type": "code",
   "execution_count": 4,
   "metadata": {},
   "outputs": [
    {
     "data": {
      "text/html": [
       "<div>\n",
       "<style scoped>\n",
       "    .dataframe tbody tr th:only-of-type {\n",
       "        vertical-align: middle;\n",
       "    }\n",
       "\n",
       "    .dataframe tbody tr th {\n",
       "        vertical-align: top;\n",
       "    }\n",
       "\n",
       "    .dataframe thead th {\n",
       "        text-align: right;\n",
       "    }\n",
       "</style>\n",
       "<table border=\"1\" class=\"dataframe\">\n",
       "  <thead>\n",
       "    <tr style=\"text-align: right;\">\n",
       "      <th></th>\n",
       "      <th>ID</th>\n",
       "      <th>LIMIT_BAL</th>\n",
       "      <th>SEX</th>\n",
       "      <th>EDUCATION</th>\n",
       "      <th>MARRIAGE</th>\n",
       "      <th>AGE</th>\n",
       "      <th>PAY_0</th>\n",
       "      <th>PAY_2</th>\n",
       "      <th>PAY_3</th>\n",
       "      <th>PAY_4</th>\n",
       "      <th>...</th>\n",
       "      <th>BILL_AMT4</th>\n",
       "      <th>BILL_AMT5</th>\n",
       "      <th>BILL_AMT6</th>\n",
       "      <th>PAY_AMT1</th>\n",
       "      <th>PAY_AMT2</th>\n",
       "      <th>PAY_AMT3</th>\n",
       "      <th>PAY_AMT4</th>\n",
       "      <th>PAY_AMT5</th>\n",
       "      <th>PAY_AMT6</th>\n",
       "      <th>defaulted</th>\n",
       "    </tr>\n",
       "  </thead>\n",
       "  <tbody>\n",
       "    <tr>\n",
       "      <th>0</th>\n",
       "      <td>1</td>\n",
       "      <td>20000</td>\n",
       "      <td>2</td>\n",
       "      <td>2</td>\n",
       "      <td>1</td>\n",
       "      <td>24</td>\n",
       "      <td>2</td>\n",
       "      <td>2</td>\n",
       "      <td>-1</td>\n",
       "      <td>-1</td>\n",
       "      <td>...</td>\n",
       "      <td>0</td>\n",
       "      <td>0</td>\n",
       "      <td>0</td>\n",
       "      <td>0</td>\n",
       "      <td>689</td>\n",
       "      <td>0</td>\n",
       "      <td>0</td>\n",
       "      <td>0</td>\n",
       "      <td>0</td>\n",
       "      <td>1</td>\n",
       "    </tr>\n",
       "    <tr>\n",
       "      <th>1</th>\n",
       "      <td>2</td>\n",
       "      <td>120000</td>\n",
       "      <td>2</td>\n",
       "      <td>2</td>\n",
       "      <td>2</td>\n",
       "      <td>26</td>\n",
       "      <td>-1</td>\n",
       "      <td>2</td>\n",
       "      <td>0</td>\n",
       "      <td>0</td>\n",
       "      <td>...</td>\n",
       "      <td>3272</td>\n",
       "      <td>3455</td>\n",
       "      <td>3261</td>\n",
       "      <td>0</td>\n",
       "      <td>1000</td>\n",
       "      <td>1000</td>\n",
       "      <td>1000</td>\n",
       "      <td>0</td>\n",
       "      <td>2000</td>\n",
       "      <td>1</td>\n",
       "    </tr>\n",
       "    <tr>\n",
       "      <th>2</th>\n",
       "      <td>3</td>\n",
       "      <td>90000</td>\n",
       "      <td>2</td>\n",
       "      <td>2</td>\n",
       "      <td>2</td>\n",
       "      <td>34</td>\n",
       "      <td>0</td>\n",
       "      <td>0</td>\n",
       "      <td>0</td>\n",
       "      <td>0</td>\n",
       "      <td>...</td>\n",
       "      <td>14331</td>\n",
       "      <td>14948</td>\n",
       "      <td>15549</td>\n",
       "      <td>1518</td>\n",
       "      <td>1500</td>\n",
       "      <td>1000</td>\n",
       "      <td>1000</td>\n",
       "      <td>1000</td>\n",
       "      <td>5000</td>\n",
       "      <td>0</td>\n",
       "    </tr>\n",
       "    <tr>\n",
       "      <th>3</th>\n",
       "      <td>4</td>\n",
       "      <td>50000</td>\n",
       "      <td>2</td>\n",
       "      <td>2</td>\n",
       "      <td>1</td>\n",
       "      <td>37</td>\n",
       "      <td>0</td>\n",
       "      <td>0</td>\n",
       "      <td>0</td>\n",
       "      <td>0</td>\n",
       "      <td>...</td>\n",
       "      <td>28314</td>\n",
       "      <td>28959</td>\n",
       "      <td>29547</td>\n",
       "      <td>2000</td>\n",
       "      <td>2019</td>\n",
       "      <td>1200</td>\n",
       "      <td>1100</td>\n",
       "      <td>1069</td>\n",
       "      <td>1000</td>\n",
       "      <td>0</td>\n",
       "    </tr>\n",
       "    <tr>\n",
       "      <th>4</th>\n",
       "      <td>5</td>\n",
       "      <td>50000</td>\n",
       "      <td>1</td>\n",
       "      <td>2</td>\n",
       "      <td>1</td>\n",
       "      <td>57</td>\n",
       "      <td>-1</td>\n",
       "      <td>0</td>\n",
       "      <td>-1</td>\n",
       "      <td>0</td>\n",
       "      <td>...</td>\n",
       "      <td>20940</td>\n",
       "      <td>19146</td>\n",
       "      <td>19131</td>\n",
       "      <td>2000</td>\n",
       "      <td>36681</td>\n",
       "      <td>10000</td>\n",
       "      <td>9000</td>\n",
       "      <td>689</td>\n",
       "      <td>679</td>\n",
       "      <td>0</td>\n",
       "    </tr>\n",
       "  </tbody>\n",
       "</table>\n",
       "<p>5 rows × 25 columns</p>\n",
       "</div>"
      ],
      "text/plain": [
       "   ID  LIMIT_BAL  SEX  EDUCATION  MARRIAGE  AGE  PAY_0  PAY_2  PAY_3  PAY_4  \\\n",
       "0   1      20000    2          2         1   24      2      2     -1     -1   \n",
       "1   2     120000    2          2         2   26     -1      2      0      0   \n",
       "2   3      90000    2          2         2   34      0      0      0      0   \n",
       "3   4      50000    2          2         1   37      0      0      0      0   \n",
       "4   5      50000    1          2         1   57     -1      0     -1      0   \n",
       "\n",
       "   ...  BILL_AMT4  BILL_AMT5  BILL_AMT6  PAY_AMT1  PAY_AMT2  PAY_AMT3  \\\n",
       "0  ...          0          0          0         0       689         0   \n",
       "1  ...       3272       3455       3261         0      1000      1000   \n",
       "2  ...      14331      14948      15549      1518      1500      1000   \n",
       "3  ...      28314      28959      29547      2000      2019      1200   \n",
       "4  ...      20940      19146      19131      2000     36681     10000   \n",
       "\n",
       "   PAY_AMT4  PAY_AMT5  PAY_AMT6  defaulted  \n",
       "0         0         0         0          1  \n",
       "1      1000         0      2000          1  \n",
       "2      1000      1000      5000          0  \n",
       "3      1100      1069      1000          0  \n",
       "4      9000       689       679          0  \n",
       "\n",
       "[5 rows x 25 columns]"
      ]
     },
     "execution_count": 4,
     "metadata": {},
     "output_type": "execute_result"
    }
   ],
   "source": [
    "df.head()"
   ]
  },
  {
   "cell_type": "code",
   "execution_count": 6,
   "metadata": {},
   "outputs": [
    {
     "data": {
      "text/plain": [
       "0    23364\n",
       "1     6636\n",
       "Name: defaulted, dtype: int64"
      ]
     },
     "execution_count": 6,
     "metadata": {},
     "output_type": "execute_result"
    }
   ],
   "source": [
    "df['defaulted'].value_counts()"
   ]
  },
  {
   "cell_type": "code",
   "execution_count": 7,
   "metadata": {
    "scrolled": true
   },
   "outputs": [
    {
     "name": "stdout",
     "output_type": "stream",
     "text": [
      "<class 'pandas.core.frame.DataFrame'>\n",
      "RangeIndex: 30000 entries, 0 to 29999\n",
      "Data columns (total 25 columns):\n",
      " #   Column     Non-Null Count  Dtype\n",
      "---  ------     --------------  -----\n",
      " 0   ID         30000 non-null  int64\n",
      " 1   LIMIT_BAL  30000 non-null  int64\n",
      " 2   SEX        30000 non-null  int64\n",
      " 3   EDUCATION  30000 non-null  int64\n",
      " 4   MARRIAGE   30000 non-null  int64\n",
      " 5   AGE        30000 non-null  int64\n",
      " 6   PAY_0      30000 non-null  int64\n",
      " 7   PAY_2      30000 non-null  int64\n",
      " 8   PAY_3      30000 non-null  int64\n",
      " 9   PAY_4      30000 non-null  int64\n",
      " 10  PAY_5      30000 non-null  int64\n",
      " 11  PAY_6      30000 non-null  int64\n",
      " 12  BILL_AMT1  30000 non-null  int64\n",
      " 13  BILL_AMT2  30000 non-null  int64\n",
      " 14  BILL_AMT3  30000 non-null  int64\n",
      " 15  BILL_AMT4  30000 non-null  int64\n",
      " 16  BILL_AMT5  30000 non-null  int64\n",
      " 17  BILL_AMT6  30000 non-null  int64\n",
      " 18  PAY_AMT1   30000 non-null  int64\n",
      " 19  PAY_AMT2   30000 non-null  int64\n",
      " 20  PAY_AMT3   30000 non-null  int64\n",
      " 21  PAY_AMT4   30000 non-null  int64\n",
      " 22  PAY_AMT5   30000 non-null  int64\n",
      " 23  PAY_AMT6   30000 non-null  int64\n",
      " 24  defaulted  30000 non-null  int64\n",
      "dtypes: int64(25)\n",
      "memory usage: 5.7 MB\n"
     ]
    }
   ],
   "source": [
    "df.info()"
   ]
  },
  {
   "cell_type": "code",
   "execution_count": 9,
   "metadata": {},
   "outputs": [],
   "source": [
    "from sklearn.model_selection import train_test_split\n",
    "X = df.drop('defaulted',axis=1)\n",
    "y = df['defaulted']\n",
    "\n",
    "X_train,X_test,y_train,y_test = train_test_split(X,y,test_size=0.3,random_state=100)"
   ]
  },
  {
   "cell_type": "code",
   "execution_count": 10,
   "metadata": {},
   "outputs": [
    {
     "data": {
      "text/plain": [
       "((21000, 24), (9000, 24), (21000,), (9000,))"
      ]
     },
     "execution_count": 10,
     "metadata": {},
     "output_type": "execute_result"
    }
   ],
   "source": [
    "X_train.shape,X_test.shape,y_train.shape,y_test.shape"
   ]
  },
  {
   "cell_type": "code",
   "execution_count": 11,
   "metadata": {},
   "outputs": [],
   "source": [
    "from sklearn.ensemble import RandomForestClassifier\n",
    "rfc = RandomForestClassifier()"
   ]
  },
  {
   "cell_type": "code",
   "execution_count": 12,
   "metadata": {},
   "outputs": [
    {
     "data": {
      "text/plain": [
       "RandomForestClassifier()"
      ]
     },
     "execution_count": 12,
     "metadata": {},
     "output_type": "execute_result"
    }
   ],
   "source": [
    "rfc.fit(X_train,y_train)"
   ]
  },
  {
   "cell_type": "code",
   "execution_count": 13,
   "metadata": {},
   "outputs": [],
   "source": [
    "predictions = rfc.predict(X_test)"
   ]
  },
  {
   "cell_type": "code",
   "execution_count": 14,
   "metadata": {},
   "outputs": [],
   "source": [
    "from sklearn.metrics import classification_report,accuracy_score,confusion_matrix"
   ]
  },
  {
   "cell_type": "code",
   "execution_count": 15,
   "metadata": {},
   "outputs": [
    {
     "name": "stdout",
     "output_type": "stream",
     "text": [
      "              precision    recall  f1-score   support\n",
      "\n",
      "           0       0.84      0.95      0.89      6927\n",
      "           1       0.68      0.38      0.48      2073\n",
      "\n",
      "    accuracy                           0.81      9000\n",
      "   macro avg       0.76      0.66      0.69      9000\n",
      "weighted avg       0.80      0.81      0.79      9000\n",
      "\n"
     ]
    }
   ],
   "source": [
    "print(classification_report(y_test,predictions))"
   ]
  },
  {
   "cell_type": "code",
   "execution_count": 16,
   "metadata": {},
   "outputs": [
    {
     "name": "stdout",
     "output_type": "stream",
     "text": [
      "[[6552  375]\n",
      " [1293  780]]\n"
     ]
    }
   ],
   "source": [
    "print(confusion_matrix(y_test,predictions))"
   ]
  },
  {
   "cell_type": "code",
   "execution_count": 17,
   "metadata": {},
   "outputs": [
    {
     "name": "stdout",
     "output_type": "stream",
     "text": [
      "0.8146666666666667\n"
     ]
    }
   ],
   "source": [
    "print(accuracy_score(y_test,predictions))"
   ]
  },
  {
   "cell_type": "markdown",
   "metadata": {},
   "source": [
    "# Hyper Parameter Tuning"
   ]
  },
  {
   "cell_type": "code",
   "execution_count": 22,
   "metadata": {},
   "outputs": [
    {
     "data": {
      "text/plain": [
       "GridSearchCV(cv=5, estimator=RandomForestClassifier(),\n",
       "             param_grid={'max_depth': range(2, 20, 5)}, return_train_score=True,\n",
       "             scoring='accuracy')"
      ]
     },
     "execution_count": 22,
     "metadata": {},
     "output_type": "execute_result"
    }
   ],
   "source": [
    "from sklearn.model_selection import KFold\n",
    "from sklearn.model_selection import GridSearchCV\n",
    "\n",
    "n_folds = 5\n",
    "\n",
    "parameters = {'max_depth':range(2,20,5)}\n",
    "\n",
    "rf = RandomForestClassifier()\n",
    "\n",
    "rf = GridSearchCV(rf,parameters,cv=n_folds,scoring='accuracy',return_train_score=True)\n",
    "\n",
    "rf.fit(X_train,y_train)"
   ]
  },
  {
   "cell_type": "code",
   "execution_count": 29,
   "metadata": {},
   "outputs": [
    {
     "data": {
      "text/html": [
       "<div>\n",
       "<style scoped>\n",
       "    .dataframe tbody tr th:only-of-type {\n",
       "        vertical-align: middle;\n",
       "    }\n",
       "\n",
       "    .dataframe tbody tr th {\n",
       "        vertical-align: top;\n",
       "    }\n",
       "\n",
       "    .dataframe thead th {\n",
       "        text-align: right;\n",
       "    }\n",
       "</style>\n",
       "<table border=\"1\" class=\"dataframe\">\n",
       "  <thead>\n",
       "    <tr style=\"text-align: right;\">\n",
       "      <th></th>\n",
       "      <th>mean_fit_time</th>\n",
       "      <th>std_fit_time</th>\n",
       "      <th>mean_score_time</th>\n",
       "      <th>std_score_time</th>\n",
       "      <th>param_max_depth</th>\n",
       "      <th>params</th>\n",
       "      <th>split0_test_score</th>\n",
       "      <th>split1_test_score</th>\n",
       "      <th>split2_test_score</th>\n",
       "      <th>split3_test_score</th>\n",
       "      <th>split4_test_score</th>\n",
       "      <th>mean_test_score</th>\n",
       "      <th>std_test_score</th>\n",
       "      <th>rank_test_score</th>\n",
       "      <th>split0_train_score</th>\n",
       "      <th>split1_train_score</th>\n",
       "      <th>split2_train_score</th>\n",
       "      <th>split3_train_score</th>\n",
       "      <th>split4_train_score</th>\n",
       "      <th>mean_train_score</th>\n",
       "      <th>std_train_score</th>\n",
       "    </tr>\n",
       "  </thead>\n",
       "  <tbody>\n",
       "    <tr>\n",
       "      <th>0</th>\n",
       "      <td>0.583437</td>\n",
       "      <td>0.007020</td>\n",
       "      <td>0.023541</td>\n",
       "      <td>0.000493</td>\n",
       "      <td>2</td>\n",
       "      <td>{'max_depth': 2}</td>\n",
       "      <td>0.805476</td>\n",
       "      <td>0.798810</td>\n",
       "      <td>0.803571</td>\n",
       "      <td>0.804048</td>\n",
       "      <td>0.804048</td>\n",
       "      <td>0.803190</td>\n",
       "      <td>0.002282</td>\n",
       "      <td>4</td>\n",
       "      <td>0.802202</td>\n",
       "      <td>0.803095</td>\n",
       "      <td>0.801548</td>\n",
       "      <td>0.806250</td>\n",
       "      <td>0.803036</td>\n",
       "      <td>0.803226</td>\n",
       "      <td>0.001616</td>\n",
       "    </tr>\n",
       "    <tr>\n",
       "      <th>1</th>\n",
       "      <td>1.455509</td>\n",
       "      <td>0.026341</td>\n",
       "      <td>0.035298</td>\n",
       "      <td>0.001856</td>\n",
       "      <td>7</td>\n",
       "      <td>{'max_depth': 7}</td>\n",
       "      <td>0.821905</td>\n",
       "      <td>0.816905</td>\n",
       "      <td>0.824762</td>\n",
       "      <td>0.819048</td>\n",
       "      <td>0.819048</td>\n",
       "      <td>0.820333</td>\n",
       "      <td>0.002726</td>\n",
       "      <td>2</td>\n",
       "      <td>0.836607</td>\n",
       "      <td>0.837143</td>\n",
       "      <td>0.836190</td>\n",
       "      <td>0.838393</td>\n",
       "      <td>0.838631</td>\n",
       "      <td>0.837393</td>\n",
       "      <td>0.000965</td>\n",
       "    </tr>\n",
       "    <tr>\n",
       "      <th>2</th>\n",
       "      <td>2.201313</td>\n",
       "      <td>0.011672</td>\n",
       "      <td>0.050468</td>\n",
       "      <td>0.000485</td>\n",
       "      <td>12</td>\n",
       "      <td>{'max_depth': 12}</td>\n",
       "      <td>0.821667</td>\n",
       "      <td>0.818095</td>\n",
       "      <td>0.824524</td>\n",
       "      <td>0.820714</td>\n",
       "      <td>0.816905</td>\n",
       "      <td>0.820381</td>\n",
       "      <td>0.002692</td>\n",
       "      <td>1</td>\n",
       "      <td>0.887500</td>\n",
       "      <td>0.885179</td>\n",
       "      <td>0.887381</td>\n",
       "      <td>0.887202</td>\n",
       "      <td>0.890476</td>\n",
       "      <td>0.887548</td>\n",
       "      <td>0.001693</td>\n",
       "    </tr>\n",
       "    <tr>\n",
       "      <th>3</th>\n",
       "      <td>2.801909</td>\n",
       "      <td>0.031868</td>\n",
       "      <td>0.064828</td>\n",
       "      <td>0.005045</td>\n",
       "      <td>17</td>\n",
       "      <td>{'max_depth': 17}</td>\n",
       "      <td>0.822619</td>\n",
       "      <td>0.816667</td>\n",
       "      <td>0.824286</td>\n",
       "      <td>0.817619</td>\n",
       "      <td>0.818095</td>\n",
       "      <td>0.819857</td>\n",
       "      <td>0.003018</td>\n",
       "      <td>3</td>\n",
       "      <td>0.929107</td>\n",
       "      <td>0.929167</td>\n",
       "      <td>0.929524</td>\n",
       "      <td>0.929464</td>\n",
       "      <td>0.930655</td>\n",
       "      <td>0.929583</td>\n",
       "      <td>0.000560</td>\n",
       "    </tr>\n",
       "  </tbody>\n",
       "</table>\n",
       "</div>"
      ],
      "text/plain": [
       "   mean_fit_time  std_fit_time  mean_score_time  std_score_time  \\\n",
       "0       0.583437      0.007020         0.023541        0.000493   \n",
       "1       1.455509      0.026341         0.035298        0.001856   \n",
       "2       2.201313      0.011672         0.050468        0.000485   \n",
       "3       2.801909      0.031868         0.064828        0.005045   \n",
       "\n",
       "  param_max_depth             params  split0_test_score  split1_test_score  \\\n",
       "0               2   {'max_depth': 2}           0.805476           0.798810   \n",
       "1               7   {'max_depth': 7}           0.821905           0.816905   \n",
       "2              12  {'max_depth': 12}           0.821667           0.818095   \n",
       "3              17  {'max_depth': 17}           0.822619           0.816667   \n",
       "\n",
       "   split2_test_score  split3_test_score  split4_test_score  mean_test_score  \\\n",
       "0           0.803571           0.804048           0.804048         0.803190   \n",
       "1           0.824762           0.819048           0.819048         0.820333   \n",
       "2           0.824524           0.820714           0.816905         0.820381   \n",
       "3           0.824286           0.817619           0.818095         0.819857   \n",
       "\n",
       "   std_test_score  rank_test_score  split0_train_score  split1_train_score  \\\n",
       "0        0.002282                4            0.802202            0.803095   \n",
       "1        0.002726                2            0.836607            0.837143   \n",
       "2        0.002692                1            0.887500            0.885179   \n",
       "3        0.003018                3            0.929107            0.929167   \n",
       "\n",
       "   split2_train_score  split3_train_score  split4_train_score  \\\n",
       "0            0.801548            0.806250            0.803036   \n",
       "1            0.836190            0.838393            0.838631   \n",
       "2            0.887381            0.887202            0.890476   \n",
       "3            0.929524            0.929464            0.930655   \n",
       "\n",
       "   mean_train_score  std_train_score  \n",
       "0          0.803226         0.001616  \n",
       "1          0.837393         0.000965  \n",
       "2          0.887548         0.001693  \n",
       "3          0.929583         0.000560  "
      ]
     },
     "execution_count": 29,
     "metadata": {},
     "output_type": "execute_result"
    }
   ],
   "source": [
    "#scores = rf.cv_results_\n",
    "scores = pd.DataFrame(scores)\n",
    "scores"
   ]
  },
  {
   "cell_type": "code",
   "execution_count": 30,
   "metadata": {},
   "outputs": [
    {
     "data": {
      "image/png": "[encoded data removed]",
      "text/plain": [
       "<Figure size 1008x576 with 1 Axes>"
      ]
     },
     "metadata": {
      "needs_background": "light"
     },
     "output_type": "display_data"
    }
   ],
   "source": [
    "plt.figure(figsize=(14,8))\n",
    "plt.plot(scores['param_max_depth'],scores['mean_train_score'],label='training accuracy')\n",
    "plt.plot(scores['param_max_depth'],scores['mean_test_score'],label='test accuracy')\n",
    "plt.xlabel('max_depth')\n",
    "plt.ylabel('accuracy')\n",
    "plt.legend()\n",
    "plt.show()"
   ]
  },
  {
   "cell_type": "code",
   "execution_count": 34,
   "metadata": {},
   "outputs": [
    {
     "data": {
      "text/plain": [
       "GridSearchCV(cv=5, estimator=RandomForestClassifier(max_depth=4),\n",
       "             param_grid={'n_estimators': range(100, 1500, 400)},\n",
       "             return_train_score=True, scoring='accuracy')"
      ]
     },
     "execution_count": 34,
     "metadata": {},
     "output_type": "execute_result"
    }
   ],
   "source": [
    "from sklearn.model_selection import KFold\n",
    "from sklearn.model_selection import GridSearchCV\n",
    "\n",
    "n_folds = 5\n",
    "\n",
    "parameters = {'n_estimators':range(100,1500,400)}\n",
    "\n",
    "rf = RandomForestClassifier(max_depth=4)\n",
    "\n",
    "rf = GridSearchCV(rf,parameters,cv=n_folds,scoring='accuracy',return_train_score=True)\n",
    "\n",
    "rf.fit(X_train,y_train)"
   ]
  },
  {
   "cell_type": "code",
   "execution_count": 35,
   "metadata": {},
   "outputs": [
    {
     "data": {
      "text/html": [
       "<div>\n",
       "<style scoped>\n",
       "    .dataframe tbody tr th:only-of-type {\n",
       "        vertical-align: middle;\n",
       "    }\n",
       "\n",
       "    .dataframe tbody tr th {\n",
       "        vertical-align: top;\n",
       "    }\n",
       "\n",
       "    .dataframe thead th {\n",
       "        text-align: right;\n",
       "    }\n",
       "</style>\n",
       "<table border=\"1\" class=\"dataframe\">\n",
       "  <thead>\n",
       "    <tr style=\"text-align: right;\">\n",
       "      <th></th>\n",
       "      <th>mean_fit_time</th>\n",
       "      <th>std_fit_time</th>\n",
       "      <th>mean_score_time</th>\n",
       "      <th>std_score_time</th>\n",
       "      <th>param_n_estimators</th>\n",
       "      <th>params</th>\n",
       "      <th>split0_test_score</th>\n",
       "      <th>split1_test_score</th>\n",
       "      <th>split2_test_score</th>\n",
       "      <th>split3_test_score</th>\n",
       "      <th>split4_test_score</th>\n",
       "      <th>mean_test_score</th>\n",
       "      <th>std_test_score</th>\n",
       "      <th>rank_test_score</th>\n",
       "      <th>split0_train_score</th>\n",
       "      <th>split1_train_score</th>\n",
       "      <th>split2_train_score</th>\n",
       "      <th>split3_train_score</th>\n",
       "      <th>split4_train_score</th>\n",
       "      <th>mean_train_score</th>\n",
       "      <th>std_train_score</th>\n",
       "    </tr>\n",
       "  </thead>\n",
       "  <tbody>\n",
       "    <tr>\n",
       "      <th>0</th>\n",
       "      <td>0.948066</td>\n",
       "      <td>0.020288</td>\n",
       "      <td>0.028122</td>\n",
       "      <td>0.000401</td>\n",
       "      <td>100</td>\n",
       "      <td>{'n_estimators': 100}</td>\n",
       "      <td>0.813810</td>\n",
       "      <td>0.811667</td>\n",
       "      <td>0.812619</td>\n",
       "      <td>0.811667</td>\n",
       "      <td>0.810476</td>\n",
       "      <td>0.812048</td>\n",
       "      <td>0.001113</td>\n",
       "      <td>4</td>\n",
       "      <td>0.815893</td>\n",
       "      <td>0.816310</td>\n",
       "      <td>0.813095</td>\n",
       "      <td>0.815655</td>\n",
       "      <td>0.813512</td>\n",
       "      <td>0.814893</td>\n",
       "      <td>0.001321</td>\n",
       "    </tr>\n",
       "    <tr>\n",
       "      <th>1</th>\n",
       "      <td>4.713604</td>\n",
       "      <td>0.078911</td>\n",
       "      <td>0.131641</td>\n",
       "      <td>0.002281</td>\n",
       "      <td>500</td>\n",
       "      <td>{'n_estimators': 500}</td>\n",
       "      <td>0.814286</td>\n",
       "      <td>0.810714</td>\n",
       "      <td>0.815238</td>\n",
       "      <td>0.810238</td>\n",
       "      <td>0.815476</td>\n",
       "      <td>0.813190</td>\n",
       "      <td>0.002257</td>\n",
       "      <td>3</td>\n",
       "      <td>0.814167</td>\n",
       "      <td>0.815298</td>\n",
       "      <td>0.814048</td>\n",
       "      <td>0.815893</td>\n",
       "      <td>0.814940</td>\n",
       "      <td>0.814869</td>\n",
       "      <td>0.000694</td>\n",
       "    </tr>\n",
       "    <tr>\n",
       "      <th>2</th>\n",
       "      <td>8.473346</td>\n",
       "      <td>0.127740</td>\n",
       "      <td>0.237764</td>\n",
       "      <td>0.004661</td>\n",
       "      <td>900</td>\n",
       "      <td>{'n_estimators': 900}</td>\n",
       "      <td>0.814762</td>\n",
       "      <td>0.810714</td>\n",
       "      <td>0.815714</td>\n",
       "      <td>0.810714</td>\n",
       "      <td>0.815238</td>\n",
       "      <td>0.813429</td>\n",
       "      <td>0.002237</td>\n",
       "      <td>1</td>\n",
       "      <td>0.814524</td>\n",
       "      <td>0.815595</td>\n",
       "      <td>0.815179</td>\n",
       "      <td>0.815298</td>\n",
       "      <td>0.814583</td>\n",
       "      <td>0.815036</td>\n",
       "      <td>0.000417</td>\n",
       "    </tr>\n",
       "    <tr>\n",
       "      <th>3</th>\n",
       "      <td>12.413810</td>\n",
       "      <td>0.100259</td>\n",
       "      <td>0.343483</td>\n",
       "      <td>0.005935</td>\n",
       "      <td>1300</td>\n",
       "      <td>{'n_estimators': 1300}</td>\n",
       "      <td>0.814048</td>\n",
       "      <td>0.811190</td>\n",
       "      <td>0.815000</td>\n",
       "      <td>0.810714</td>\n",
       "      <td>0.815238</td>\n",
       "      <td>0.813238</td>\n",
       "      <td>0.001914</td>\n",
       "      <td>2</td>\n",
       "      <td>0.814167</td>\n",
       "      <td>0.815179</td>\n",
       "      <td>0.814524</td>\n",
       "      <td>0.815179</td>\n",
       "      <td>0.814345</td>\n",
       "      <td>0.814679</td>\n",
       "      <td>0.000424</td>\n",
       "    </tr>\n",
       "  </tbody>\n",
       "</table>\n",
       "</div>"
      ],
      "text/plain": [
       "   mean_fit_time  std_fit_time  mean_score_time  std_score_time  \\\n",
       "0       0.948066      0.020288         0.028122        0.000401   \n",
       "1       4.713604      0.078911         0.131641        0.002281   \n",
       "2       8.473346      0.127740         0.237764        0.004661   \n",
       "3      12.413810      0.100259         0.343483        0.005935   \n",
       "\n",
       "  param_n_estimators                  params  split0_test_score  \\\n",
       "0                100   {'n_estimators': 100}           0.813810   \n",
       "1                500   {'n_estimators': 500}           0.814286   \n",
       "2                900   {'n_estimators': 900}           0.814762   \n",
       "3               1300  {'n_estimators': 1300}           0.814048   \n",
       "\n",
       "   split1_test_score  split2_test_score  split3_test_score  split4_test_score  \\\n",
       "0           0.811667           0.812619           0.811667           0.810476   \n",
       "1           0.810714           0.815238           0.810238           0.815476   \n",
       "2           0.810714           0.815714           0.810714           0.815238   \n",
       "3           0.811190           0.815000           0.810714           0.815238   \n",
       "\n",
       "   mean_test_score  std_test_score  rank_test_score  split0_train_score  \\\n",
       "0         0.812048        0.001113                4            0.815893   \n",
       "1         0.813190        0.002257                3            0.814167   \n",
       "2         0.813429        0.002237                1            0.814524   \n",
       "3         0.813238        0.001914                2            0.814167   \n",
       "\n",
       "   split1_train_score  split2_train_score  split3_train_score  \\\n",
       "0            0.816310            0.813095            0.815655   \n",
       "1            0.815298            0.814048            0.815893   \n",
       "2            0.815595            0.815179            0.815298   \n",
       "3            0.815179            0.814524            0.815179   \n",
       "\n",
       "   split4_train_score  mean_train_score  std_train_score  \n",
       "0            0.813512          0.814893         0.001321  \n",
       "1            0.814940          0.814869         0.000694  \n",
       "2            0.814583          0.815036         0.000417  \n",
       "3            0.814345          0.814679         0.000424  "
      ]
     },
     "execution_count": 35,
     "metadata": {},
     "output_type": "execute_result"
    }
   ],
   "source": [
    "scores = rf.cv_results_\n",
    "scores = pd.DataFrame(scores)\n",
    "scores"
   ]
  },
  {
   "cell_type": "code",
   "execution_count": 37,
   "metadata": {},
   "outputs": [
    {
     "data": {
      "image/png": "[encoded data removed]",
      "text/plain": [
       "<Figure size 1008x576 with 1 Axes>"
      ]
     },
     "metadata": {
      "needs_background": "light"
     },
     "output_type": "display_data"
    }
   ],
   "source": [
    "plt.figure(figsize=(14,8))\n",
    "plt.plot(scores['param_n_estimators'],scores['mean_train_score'],label='training accuracy')\n",
    "plt.plot(scores['param_n_estimators'],scores['mean_test_score'],label='test accuracy')\n",
    "plt.xlabel('min_samples_leaf')\n",
    "plt.ylabel('accuracy')\n",
    "plt.legend()\n",
    "plt.show()"
   ]
  },
  {
   "cell_type": "code",
   "execution_count": 38,
   "metadata": {},
   "outputs": [
    {
     "data": {
      "text/plain": [
       "GridSearchCV(cv=5, estimator=RandomForestClassifier(max_depth=4),\n",
       "             param_grid={'max_features': [4, 8, 14, 20, 24]},\n",
       "             return_train_score=True, scoring='accuracy')"
      ]
     },
     "execution_count": 38,
     "metadata": {},
     "output_type": "execute_result"
    }
   ],
   "source": [
    "from sklearn.model_selection import KFold\n",
    "from sklearn.model_selection import GridSearchCV\n",
    "\n",
    "n_folds = 5\n",
    "\n",
    "parameters = {'max_features':[4,8,14,20,24]}\n",
    "\n",
    "rf = RandomForestClassifier(max_depth=4)\n",
    "\n",
    "rf = GridSearchCV(rf,parameters,cv=n_folds,scoring='accuracy',return_train_score=True)\n",
    "\n",
    "rf.fit(X_train,y_train)"
   ]
  },
  {
   "cell_type": "code",
   "execution_count": 39,
   "metadata": {},
   "outputs": [
    {
     "data": {
      "text/html": [
       "<div>\n",
       "<style scoped>\n",
       "    .dataframe tbody tr th:only-of-type {\n",
       "        vertical-align: middle;\n",
       "    }\n",
       "\n",
       "    .dataframe tbody tr th {\n",
       "        vertical-align: top;\n",
       "    }\n",
       "\n",
       "    .dataframe thead th {\n",
       "        text-align: right;\n",
       "    }\n",
       "</style>\n",
       "<table border=\"1\" class=\"dataframe\">\n",
       "  <thead>\n",
       "    <tr style=\"text-align: right;\">\n",
       "      <th></th>\n",
       "      <th>mean_fit_time</th>\n",
       "      <th>std_fit_time</th>\n",
       "      <th>mean_score_time</th>\n",
       "      <th>std_score_time</th>\n",
       "      <th>param_max_features</th>\n",
       "      <th>params</th>\n",
       "      <th>split0_test_score</th>\n",
       "      <th>split1_test_score</th>\n",
       "      <th>split2_test_score</th>\n",
       "      <th>split3_test_score</th>\n",
       "      <th>split4_test_score</th>\n",
       "      <th>mean_test_score</th>\n",
       "      <th>std_test_score</th>\n",
       "      <th>rank_test_score</th>\n",
       "      <th>split0_train_score</th>\n",
       "      <th>split1_train_score</th>\n",
       "      <th>split2_train_score</th>\n",
       "      <th>split3_train_score</th>\n",
       "      <th>split4_train_score</th>\n",
       "      <th>mean_train_score</th>\n",
       "      <th>std_train_score</th>\n",
       "    </tr>\n",
       "  </thead>\n",
       "  <tbody>\n",
       "    <tr>\n",
       "      <th>0</th>\n",
       "      <td>0.953652</td>\n",
       "      <td>0.012191</td>\n",
       "      <td>0.028926</td>\n",
       "      <td>0.000892</td>\n",
       "      <td>4</td>\n",
       "      <td>{'max_features': 4}</td>\n",
       "      <td>0.814524</td>\n",
       "      <td>0.811905</td>\n",
       "      <td>0.815000</td>\n",
       "      <td>0.811429</td>\n",
       "      <td>0.813810</td>\n",
       "      <td>0.813333</td>\n",
       "      <td>0.001421</td>\n",
       "      <td>5</td>\n",
       "      <td>0.814702</td>\n",
       "      <td>0.815179</td>\n",
       "      <td>0.813750</td>\n",
       "      <td>0.816071</td>\n",
       "      <td>0.814464</td>\n",
       "      <td>0.814833</td>\n",
       "      <td>0.000772</td>\n",
       "    </tr>\n",
       "    <tr>\n",
       "      <th>1</th>\n",
       "      <td>1.674124</td>\n",
       "      <td>0.017813</td>\n",
       "      <td>0.028125</td>\n",
       "      <td>0.000399</td>\n",
       "      <td>8</td>\n",
       "      <td>{'max_features': 8}</td>\n",
       "      <td>0.822381</td>\n",
       "      <td>0.819524</td>\n",
       "      <td>0.829524</td>\n",
       "      <td>0.821667</td>\n",
       "      <td>0.818333</td>\n",
       "      <td>0.822286</td>\n",
       "      <td>0.003900</td>\n",
       "      <td>1</td>\n",
       "      <td>0.825179</td>\n",
       "      <td>0.826369</td>\n",
       "      <td>0.823452</td>\n",
       "      <td>0.825536</td>\n",
       "      <td>0.825179</td>\n",
       "      <td>0.825143</td>\n",
       "      <td>0.000951</td>\n",
       "    </tr>\n",
       "    <tr>\n",
       "      <th>2</th>\n",
       "      <td>2.720726</td>\n",
       "      <td>0.019717</td>\n",
       "      <td>0.027329</td>\n",
       "      <td>0.000491</td>\n",
       "      <td>14</td>\n",
       "      <td>{'max_features': 14}</td>\n",
       "      <td>0.822381</td>\n",
       "      <td>0.818333</td>\n",
       "      <td>0.826905</td>\n",
       "      <td>0.820714</td>\n",
       "      <td>0.817857</td>\n",
       "      <td>0.821238</td>\n",
       "      <td>0.003273</td>\n",
       "      <td>4</td>\n",
       "      <td>0.824643</td>\n",
       "      <td>0.826071</td>\n",
       "      <td>0.822857</td>\n",
       "      <td>0.824702</td>\n",
       "      <td>0.825774</td>\n",
       "      <td>0.824810</td>\n",
       "      <td>0.001129</td>\n",
       "    </tr>\n",
       "    <tr>\n",
       "      <th>3</th>\n",
       "      <td>3.757554</td>\n",
       "      <td>0.047188</td>\n",
       "      <td>0.027731</td>\n",
       "      <td>0.000742</td>\n",
       "      <td>20</td>\n",
       "      <td>{'max_features': 20}</td>\n",
       "      <td>0.822143</td>\n",
       "      <td>0.819048</td>\n",
       "      <td>0.827143</td>\n",
       "      <td>0.820476</td>\n",
       "      <td>0.819524</td>\n",
       "      <td>0.821667</td>\n",
       "      <td>0.002935</td>\n",
       "      <td>3</td>\n",
       "      <td>0.824762</td>\n",
       "      <td>0.826190</td>\n",
       "      <td>0.823810</td>\n",
       "      <td>0.825357</td>\n",
       "      <td>0.824881</td>\n",
       "      <td>0.825000</td>\n",
       "      <td>0.000779</td>\n",
       "    </tr>\n",
       "    <tr>\n",
       "      <th>4</th>\n",
       "      <td>4.518121</td>\n",
       "      <td>0.017244</td>\n",
       "      <td>0.027726</td>\n",
       "      <td>0.000977</td>\n",
       "      <td>24</td>\n",
       "      <td>{'max_features': 24}</td>\n",
       "      <td>0.822143</td>\n",
       "      <td>0.818810</td>\n",
       "      <td>0.826905</td>\n",
       "      <td>0.821429</td>\n",
       "      <td>0.820238</td>\n",
       "      <td>0.821905</td>\n",
       "      <td>0.002744</td>\n",
       "      <td>2</td>\n",
       "      <td>0.824940</td>\n",
       "      <td>0.826964</td>\n",
       "      <td>0.824524</td>\n",
       "      <td>0.825774</td>\n",
       "      <td>0.825179</td>\n",
       "      <td>0.825476</td>\n",
       "      <td>0.000847</td>\n",
       "    </tr>\n",
       "  </tbody>\n",
       "</table>\n",
       "</div>"
      ],
      "text/plain": [
       "   mean_fit_time  std_fit_time  mean_score_time  std_score_time  \\\n",
       "0       0.953652      0.012191         0.028926        0.000892   \n",
       "1       1.674124      0.017813         0.028125        0.000399   \n",
       "2       2.720726      0.019717         0.027329        0.000491   \n",
       "3       3.757554      0.047188         0.027731        0.000742   \n",
       "4       4.518121      0.017244         0.027726        0.000977   \n",
       "\n",
       "  param_max_features                params  split0_test_score  \\\n",
       "0                  4   {'max_features': 4}           0.814524   \n",
       "1                  8   {'max_features': 8}           0.822381   \n",
       "2                 14  {'max_features': 14}           0.822381   \n",
       "3                 20  {'max_features': 20}           0.822143   \n",
       "4                 24  {'max_features': 24}           0.822143   \n",
       "\n",
       "   split1_test_score  split2_test_score  split3_test_score  split4_test_score  \\\n",
       "0           0.811905           0.815000           0.811429           0.813810   \n",
       "1           0.819524           0.829524           0.821667           0.818333   \n",
       "2           0.818333           0.826905           0.820714           0.817857   \n",
       "3           0.819048           0.827143           0.820476           0.819524   \n",
       "4           0.818810           0.826905           0.821429           0.820238   \n",
       "\n",
       "   mean_test_score  std_test_score  rank_test_score  split0_train_score  \\\n",
       "0         0.813333        0.001421                5            0.814702   \n",
       "1         0.822286        0.003900                1            0.825179   \n",
       "2         0.821238        0.003273                4            0.824643   \n",
       "3         0.821667        0.002935                3            0.824762   \n",
       "4         0.821905        0.002744                2            0.824940   \n",
       "\n",
       "   split1_train_score  split2_train_score  split3_train_score  \\\n",
       "0            0.815179            0.813750            0.816071   \n",
       "1            0.826369            0.823452            0.825536   \n",
       "2            0.826071            0.822857            0.824702   \n",
       "3            0.826190            0.823810            0.825357   \n",
       "4            0.826964            0.824524            0.825774   \n",
       "\n",
       "   split4_train_score  mean_train_score  std_train_score  \n",
       "0            0.814464          0.814833         0.000772  \n",
       "1            0.825179          0.825143         0.000951  \n",
       "2            0.825774          0.824810         0.001129  \n",
       "3            0.824881          0.825000         0.000779  \n",
       "4            0.825179          0.825476         0.000847  "
      ]
     },
     "execution_count": 39,
     "metadata": {},
     "output_type": "execute_result"
    }
   ],
   "source": [
    "scores = rf.cv_results_\n",
    "pd.DataFrame(scores).head()"
   ]
  },
  {
   "cell_type": "code",
   "execution_count": 40,
   "metadata": {},
   "outputs": [
    {
     "data": {
      "image/png": "[encoded data removed]",
      "text/plain": [
       "<Figure size 1008x576 with 1 Axes>"
      ]
     },
     "metadata": {
      "needs_background": "light"
     },
     "output_type": "display_data"
    }
   ],
   "source": [
    "plt.figure(figsize=(14,8))\n",
    "plt.plot(scores[\"param_max_features\"], \n",
    "         scores[\"mean_train_score\"], \n",
    "         label=\"training accuracy\")\n",
    "plt.plot(scores[\"param_max_features\"], \n",
    "         scores[\"mean_test_score\"], \n",
    "         label=\"test accuracy\")\n",
    "plt.xlabel(\"max_features\")\n",
    "plt.ylabel(\"Accuracy\")\n",
    "plt.legend()\n",
    "plt.show()\n"
   ]
  },
  {
   "cell_type": "code",
   "execution_count": 41,
   "metadata": {},
   "outputs": [
    {
     "data": {
      "text/plain": [
       "GridSearchCV(cv=5, estimator=RandomForestClassifier(max_depth=4),\n",
       "             param_grid={'min_samples_leaf': range(100, 400, 50)},\n",
       "             return_train_score=True, scoring='accuracy')"
      ]
     },
     "execution_count": 41,
     "metadata": {},
     "output_type": "execute_result"
    }
   ],
   "source": [
    "from sklearn.model_selection import KFold\n",
    "from sklearn.model_selection import GridSearchCV\n",
    "\n",
    "n_folds = 5\n",
    "\n",
    "parameters = {'min_samples_leaf':range(100,400,50)}\n",
    "\n",
    "rf = RandomForestClassifier(max_depth=4)\n",
    "\n",
    "rf = GridSearchCV(rf,parameters,cv=n_folds,scoring='accuracy',return_train_score=True)\n",
    "\n",
    "rf.fit(X_train,y_train)"
   ]
  },
  {
   "cell_type": "code",
   "execution_count": 42,
   "metadata": {},
   "outputs": [
    {
     "data": {
      "text/html": [
       "<div>\n",
       "<style scoped>\n",
       "    .dataframe tbody tr th:only-of-type {\n",
       "        vertical-align: middle;\n",
       "    }\n",
       "\n",
       "    .dataframe tbody tr th {\n",
       "        vertical-align: top;\n",
       "    }\n",
       "\n",
       "    .dataframe thead th {\n",
       "        text-align: right;\n",
       "    }\n",
       "</style>\n",
       "<table border=\"1\" class=\"dataframe\">\n",
       "  <thead>\n",
       "    <tr style=\"text-align: right;\">\n",
       "      <th></th>\n",
       "      <th>mean_fit_time</th>\n",
       "      <th>std_fit_time</th>\n",
       "      <th>mean_score_time</th>\n",
       "      <th>std_score_time</th>\n",
       "      <th>param_min_samples_leaf</th>\n",
       "      <th>params</th>\n",
       "      <th>split0_test_score</th>\n",
       "      <th>split1_test_score</th>\n",
       "      <th>split2_test_score</th>\n",
       "      <th>split3_test_score</th>\n",
       "      <th>split4_test_score</th>\n",
       "      <th>mean_test_score</th>\n",
       "      <th>std_test_score</th>\n",
       "      <th>rank_test_score</th>\n",
       "      <th>split0_train_score</th>\n",
       "      <th>split1_train_score</th>\n",
       "      <th>split2_train_score</th>\n",
       "      <th>split3_train_score</th>\n",
       "      <th>split4_train_score</th>\n",
       "      <th>mean_train_score</th>\n",
       "      <th>std_train_score</th>\n",
       "    </tr>\n",
       "  </thead>\n",
       "  <tbody>\n",
       "    <tr>\n",
       "      <th>0</th>\n",
       "      <td>0.954439</td>\n",
       "      <td>0.013733</td>\n",
       "      <td>0.027726</td>\n",
       "      <td>0.000399</td>\n",
       "      <td>100</td>\n",
       "      <td>{'min_samples_leaf': 100}</td>\n",
       "      <td>0.813095</td>\n",
       "      <td>0.809762</td>\n",
       "      <td>0.814048</td>\n",
       "      <td>0.809286</td>\n",
       "      <td>0.814048</td>\n",
       "      <td>0.812048</td>\n",
       "      <td>0.002095</td>\n",
       "      <td>1</td>\n",
       "      <td>0.813333</td>\n",
       "      <td>0.814107</td>\n",
       "      <td>0.812500</td>\n",
       "      <td>0.813929</td>\n",
       "      <td>0.814702</td>\n",
       "      <td>0.813714</td>\n",
       "      <td>0.000748</td>\n",
       "    </tr>\n",
       "    <tr>\n",
       "      <th>1</th>\n",
       "      <td>0.932707</td>\n",
       "      <td>0.022296</td>\n",
       "      <td>0.028324</td>\n",
       "      <td>0.000798</td>\n",
       "      <td>150</td>\n",
       "      <td>{'min_samples_leaf': 150}</td>\n",
       "      <td>0.812619</td>\n",
       "      <td>0.809524</td>\n",
       "      <td>0.813571</td>\n",
       "      <td>0.808571</td>\n",
       "      <td>0.811667</td>\n",
       "      <td>0.811190</td>\n",
       "      <td>0.001875</td>\n",
       "      <td>2</td>\n",
       "      <td>0.812917</td>\n",
       "      <td>0.812321</td>\n",
       "      <td>0.812500</td>\n",
       "      <td>0.812679</td>\n",
       "      <td>0.813393</td>\n",
       "      <td>0.812762</td>\n",
       "      <td>0.000372</td>\n",
       "    </tr>\n",
       "    <tr>\n",
       "      <th>2</th>\n",
       "      <td>0.912770</td>\n",
       "      <td>0.010063</td>\n",
       "      <td>0.028114</td>\n",
       "      <td>0.000393</td>\n",
       "      <td>200</td>\n",
       "      <td>{'min_samples_leaf': 200}</td>\n",
       "      <td>0.813571</td>\n",
       "      <td>0.809762</td>\n",
       "      <td>0.814048</td>\n",
       "      <td>0.809524</td>\n",
       "      <td>0.808333</td>\n",
       "      <td>0.811048</td>\n",
       "      <td>0.002311</td>\n",
       "      <td>3</td>\n",
       "      <td>0.813393</td>\n",
       "      <td>0.812976</td>\n",
       "      <td>0.811250</td>\n",
       "      <td>0.814821</td>\n",
       "      <td>0.810060</td>\n",
       "      <td>0.812500</td>\n",
       "      <td>0.001669</td>\n",
       "    </tr>\n",
       "    <tr>\n",
       "      <th>3</th>\n",
       "      <td>0.892810</td>\n",
       "      <td>0.004614</td>\n",
       "      <td>0.028529</td>\n",
       "      <td>0.000793</td>\n",
       "      <td>250</td>\n",
       "      <td>{'min_samples_leaf': 250}</td>\n",
       "      <td>0.812857</td>\n",
       "      <td>0.811190</td>\n",
       "      <td>0.811429</td>\n",
       "      <td>0.807619</td>\n",
       "      <td>0.807619</td>\n",
       "      <td>0.810143</td>\n",
       "      <td>0.002138</td>\n",
       "      <td>4</td>\n",
       "      <td>0.811667</td>\n",
       "      <td>0.812917</td>\n",
       "      <td>0.810417</td>\n",
       "      <td>0.809524</td>\n",
       "      <td>0.808274</td>\n",
       "      <td>0.810560</td>\n",
       "      <td>0.001619</td>\n",
       "    </tr>\n",
       "    <tr>\n",
       "      <th>4</th>\n",
       "      <td>0.905180</td>\n",
       "      <td>0.013971</td>\n",
       "      <td>0.028723</td>\n",
       "      <td>0.000399</td>\n",
       "      <td>300</td>\n",
       "      <td>{'min_samples_leaf': 300}</td>\n",
       "      <td>0.812619</td>\n",
       "      <td>0.804524</td>\n",
       "      <td>0.813571</td>\n",
       "      <td>0.806190</td>\n",
       "      <td>0.810000</td>\n",
       "      <td>0.809381</td>\n",
       "      <td>0.003527</td>\n",
       "      <td>5</td>\n",
       "      <td>0.811131</td>\n",
       "      <td>0.808214</td>\n",
       "      <td>0.811369</td>\n",
       "      <td>0.809940</td>\n",
       "      <td>0.810476</td>\n",
       "      <td>0.810226</td>\n",
       "      <td>0.001124</td>\n",
       "    </tr>\n",
       "  </tbody>\n",
       "</table>\n",
       "</div>"
      ],
      "text/plain": [
       "   mean_fit_time  std_fit_time  mean_score_time  std_score_time  \\\n",
       "0       0.954439      0.013733         0.027726        0.000399   \n",
       "1       0.932707      0.022296         0.028324        0.000798   \n",
       "2       0.912770      0.010063         0.028114        0.000393   \n",
       "3       0.892810      0.004614         0.028529        0.000793   \n",
       "4       0.905180      0.013971         0.028723        0.000399   \n",
       "\n",
       "  param_min_samples_leaf                     params  split0_test_score  \\\n",
       "0                    100  {'min_samples_leaf': 100}           0.813095   \n",
       "1                    150  {'min_samples_leaf': 150}           0.812619   \n",
       "2                    200  {'min_samples_leaf': 200}           0.813571   \n",
       "3                    250  {'min_samples_leaf': 250}           0.812857   \n",
       "4                    300  {'min_samples_leaf': 300}           0.812619   \n",
       "\n",
       "   split1_test_score  split2_test_score  split3_test_score  split4_test_score  \\\n",
       "0           0.809762           0.814048           0.809286           0.814048   \n",
       "1           0.809524           0.813571           0.808571           0.811667   \n",
       "2           0.809762           0.814048           0.809524           0.808333   \n",
       "3           0.811190           0.811429           0.807619           0.807619   \n",
       "4           0.804524           0.813571           0.806190           0.810000   \n",
       "\n",
       "   mean_test_score  std_test_score  rank_test_score  split0_train_score  \\\n",
       "0         0.812048        0.002095                1            0.813333   \n",
       "1         0.811190        0.001875                2            0.812917   \n",
       "2         0.811048        0.002311                3            0.813393   \n",
       "3         0.810143        0.002138                4            0.811667   \n",
       "4         0.809381        0.003527                5            0.811131   \n",
       "\n",
       "   split1_train_score  split2_train_score  split3_train_score  \\\n",
       "0            0.814107            0.812500            0.813929   \n",
       "1            0.812321            0.812500            0.812679   \n",
       "2            0.812976            0.811250            0.814821   \n",
       "3            0.812917            0.810417            0.809524   \n",
       "4            0.808214            0.811369            0.809940   \n",
       "\n",
       "   split4_train_score  mean_train_score  std_train_score  \n",
       "0            0.814702          0.813714         0.000748  \n",
       "1            0.813393          0.812762         0.000372  \n",
       "2            0.810060          0.812500         0.001669  \n",
       "3            0.808274          0.810560         0.001619  \n",
       "4            0.810476          0.810226         0.001124  "
      ]
     },
     "execution_count": 42,
     "metadata": {},
     "output_type": "execute_result"
    }
   ],
   "source": [
    "scores = rf.cv_results_\n",
    "pd.DataFrame(scores).head()"
   ]
  },
  {
   "cell_type": "code",
   "execution_count": 43,
   "metadata": {},
   "outputs": [
    {
     "data": {
      "image/png": "[encoded data removed]",
      "text/plain": [
       "<Figure size 1008x576 with 1 Axes>"
      ]
     },
     "metadata": {
      "needs_background": "light"
     },
     "output_type": "display_data"
    }
   ],
   "source": [
    "plt.figure(figsize=(14,8))\n",
    "plt.plot(scores[\"param_min_samples_leaf\"], \n",
    "         scores[\"mean_train_score\"], \n",
    "         label=\"training accuracy\")\n",
    "plt.plot(scores[\"param_min_samples_leaf\"], \n",
    "         scores[\"mean_test_score\"], \n",
    "         label=\"test accuracy\")\n",
    "plt.xlabel(\"min_samples_leaf\")\n",
    "plt.ylabel(\"Accuracy\")\n",
    "plt.legend()\n",
    "plt.show()"
   ]
  },
  {
   "cell_type": "code",
   "execution_count": 44,
   "metadata": {},
   "outputs": [
    {
     "data": {
      "text/plain": [
       "GridSearchCV(cv=5, estimator=RandomForestClassifier(max_depth=4),\n",
       "             param_grid={'min_samples_split': range(200, 500, 50)},\n",
       "             return_train_score=True, scoring='accuracy')"
      ]
     },
     "execution_count": 44,
     "metadata": {},
     "output_type": "execute_result"
    }
   ],
   "source": [
    "from sklearn.model_selection import KFold\n",
    "from sklearn.model_selection import GridSearchCV\n",
    "\n",
    "n_folds = 5\n",
    "\n",
    "parameters = {'min_samples_split':range(200,500,50)}\n",
    "\n",
    "rf = RandomForestClassifier(max_depth=4)\n",
    "\n",
    "rf = GridSearchCV(rf,parameters,cv=n_folds,scoring='accuracy',return_train_score=True)\n",
    "\n",
    "rf.fit(X_train,y_train)"
   ]
  },
  {
   "cell_type": "code",
   "execution_count": 45,
   "metadata": {},
   "outputs": [
    {
     "data": {
      "text/html": [
       "<div>\n",
       "<style scoped>\n",
       "    .dataframe tbody tr th:only-of-type {\n",
       "        vertical-align: middle;\n",
       "    }\n",
       "\n",
       "    .dataframe tbody tr th {\n",
       "        vertical-align: top;\n",
       "    }\n",
       "\n",
       "    .dataframe thead th {\n",
       "        text-align: right;\n",
       "    }\n",
       "</style>\n",
       "<table border=\"1\" class=\"dataframe\">\n",
       "  <thead>\n",
       "    <tr style=\"text-align: right;\">\n",
       "      <th></th>\n",
       "      <th>mean_fit_time</th>\n",
       "      <th>std_fit_time</th>\n",
       "      <th>mean_score_time</th>\n",
       "      <th>std_score_time</th>\n",
       "      <th>param_min_samples_split</th>\n",
       "      <th>params</th>\n",
       "      <th>split0_test_score</th>\n",
       "      <th>split1_test_score</th>\n",
       "      <th>split2_test_score</th>\n",
       "      <th>split3_test_score</th>\n",
       "      <th>split4_test_score</th>\n",
       "      <th>mean_test_score</th>\n",
       "      <th>std_test_score</th>\n",
       "      <th>rank_test_score</th>\n",
       "      <th>split0_train_score</th>\n",
       "      <th>split1_train_score</th>\n",
       "      <th>split2_train_score</th>\n",
       "      <th>split3_train_score</th>\n",
       "      <th>split4_train_score</th>\n",
       "      <th>mean_train_score</th>\n",
       "      <th>std_train_score</th>\n",
       "    </tr>\n",
       "  </thead>\n",
       "  <tbody>\n",
       "    <tr>\n",
       "      <th>0</th>\n",
       "      <td>0.952454</td>\n",
       "      <td>0.007109</td>\n",
       "      <td>0.028723</td>\n",
       "      <td>0.000399</td>\n",
       "      <td>200</td>\n",
       "      <td>{'min_samples_split': 200}</td>\n",
       "      <td>0.814524</td>\n",
       "      <td>0.810952</td>\n",
       "      <td>0.815952</td>\n",
       "      <td>0.811429</td>\n",
       "      <td>0.815238</td>\n",
       "      <td>0.813619</td>\n",
       "      <td>0.002039</td>\n",
       "      <td>1</td>\n",
       "      <td>0.813393</td>\n",
       "      <td>0.814286</td>\n",
       "      <td>0.814762</td>\n",
       "      <td>0.816429</td>\n",
       "      <td>0.814702</td>\n",
       "      <td>0.814714</td>\n",
       "      <td>0.000987</td>\n",
       "    </tr>\n",
       "    <tr>\n",
       "      <th>1</th>\n",
       "      <td>0.955844</td>\n",
       "      <td>0.019792</td>\n",
       "      <td>0.028330</td>\n",
       "      <td>0.000496</td>\n",
       "      <td>250</td>\n",
       "      <td>{'min_samples_split': 250}</td>\n",
       "      <td>0.815952</td>\n",
       "      <td>0.812619</td>\n",
       "      <td>0.816190</td>\n",
       "      <td>0.810952</td>\n",
       "      <td>0.812381</td>\n",
       "      <td>0.813619</td>\n",
       "      <td>0.002083</td>\n",
       "      <td>1</td>\n",
       "      <td>0.814107</td>\n",
       "      <td>0.815357</td>\n",
       "      <td>0.814940</td>\n",
       "      <td>0.815298</td>\n",
       "      <td>0.813452</td>\n",
       "      <td>0.814631</td>\n",
       "      <td>0.000739</td>\n",
       "    </tr>\n",
       "    <tr>\n",
       "      <th>2</th>\n",
       "      <td>0.931703</td>\n",
       "      <td>0.018122</td>\n",
       "      <td>0.028723</td>\n",
       "      <td>0.000747</td>\n",
       "      <td>300</td>\n",
       "      <td>{'min_samples_split': 300}</td>\n",
       "      <td>0.813333</td>\n",
       "      <td>0.809762</td>\n",
       "      <td>0.814762</td>\n",
       "      <td>0.809048</td>\n",
       "      <td>0.810714</td>\n",
       "      <td>0.811524</td>\n",
       "      <td>0.002175</td>\n",
       "      <td>6</td>\n",
       "      <td>0.812440</td>\n",
       "      <td>0.814226</td>\n",
       "      <td>0.813452</td>\n",
       "      <td>0.813631</td>\n",
       "      <td>0.812500</td>\n",
       "      <td>0.813250</td>\n",
       "      <td>0.000687</td>\n",
       "    </tr>\n",
       "    <tr>\n",
       "      <th>3</th>\n",
       "      <td>0.942076</td>\n",
       "      <td>0.008829</td>\n",
       "      <td>0.028531</td>\n",
       "      <td>0.000494</td>\n",
       "      <td>350</td>\n",
       "      <td>{'min_samples_split': 350}</td>\n",
       "      <td>0.811905</td>\n",
       "      <td>0.811667</td>\n",
       "      <td>0.814048</td>\n",
       "      <td>0.810000</td>\n",
       "      <td>0.812619</td>\n",
       "      <td>0.812048</td>\n",
       "      <td>0.001318</td>\n",
       "      <td>5</td>\n",
       "      <td>0.812143</td>\n",
       "      <td>0.813750</td>\n",
       "      <td>0.812560</td>\n",
       "      <td>0.815595</td>\n",
       "      <td>0.812917</td>\n",
       "      <td>0.813393</td>\n",
       "      <td>0.001222</td>\n",
       "    </tr>\n",
       "    <tr>\n",
       "      <th>4</th>\n",
       "      <td>0.951855</td>\n",
       "      <td>0.019427</td>\n",
       "      <td>0.028928</td>\n",
       "      <td>0.002519</td>\n",
       "      <td>400</td>\n",
       "      <td>{'min_samples_split': 400}</td>\n",
       "      <td>0.814286</td>\n",
       "      <td>0.810000</td>\n",
       "      <td>0.815000</td>\n",
       "      <td>0.810000</td>\n",
       "      <td>0.812857</td>\n",
       "      <td>0.812429</td>\n",
       "      <td>0.002100</td>\n",
       "      <td>4</td>\n",
       "      <td>0.814643</td>\n",
       "      <td>0.811548</td>\n",
       "      <td>0.812679</td>\n",
       "      <td>0.815238</td>\n",
       "      <td>0.812798</td>\n",
       "      <td>0.813381</td>\n",
       "      <td>0.001359</td>\n",
       "    </tr>\n",
       "  </tbody>\n",
       "</table>\n",
       "</div>"
      ],
      "text/plain": [
       "   mean_fit_time  std_fit_time  mean_score_time  std_score_time  \\\n",
       "0       0.952454      0.007109         0.028723        0.000399   \n",
       "1       0.955844      0.019792         0.028330        0.000496   \n",
       "2       0.931703      0.018122         0.028723        0.000747   \n",
       "3       0.942076      0.008829         0.028531        0.000494   \n",
       "4       0.951855      0.019427         0.028928        0.002519   \n",
       "\n",
       "  param_min_samples_split                      params  split0_test_score  \\\n",
       "0                     200  {'min_samples_split': 200}           0.814524   \n",
       "1                     250  {'min_samples_split': 250}           0.815952   \n",
       "2                     300  {'min_samples_split': 300}           0.813333   \n",
       "3                     350  {'min_samples_split': 350}           0.811905   \n",
       "4                     400  {'min_samples_split': 400}           0.814286   \n",
       "\n",
       "   split1_test_score  split2_test_score  split3_test_score  split4_test_score  \\\n",
       "0           0.810952           0.815952           0.811429           0.815238   \n",
       "1           0.812619           0.816190           0.810952           0.812381   \n",
       "2           0.809762           0.814762           0.809048           0.810714   \n",
       "3           0.811667           0.814048           0.810000           0.812619   \n",
       "4           0.810000           0.815000           0.810000           0.812857   \n",
       "\n",
       "   mean_test_score  std_test_score  rank_test_score  split0_train_score  \\\n",
       "0         0.813619        0.002039                1            0.813393   \n",
       "1         0.813619        0.002083                1            0.814107   \n",
       "2         0.811524        0.002175                6            0.812440   \n",
       "3         0.812048        0.001318                5            0.812143   \n",
       "4         0.812429        0.002100                4            0.814643   \n",
       "\n",
       "   split1_train_score  split2_train_score  split3_train_score  \\\n",
       "0            0.814286            0.814762            0.816429   \n",
       "1            0.815357            0.814940            0.815298   \n",
       "2            0.814226            0.813452            0.813631   \n",
       "3            0.813750            0.812560            0.815595   \n",
       "4            0.811548            0.812679            0.815238   \n",
       "\n",
       "   split4_train_score  mean_train_score  std_train_score  \n",
       "0            0.814702          0.814714         0.000987  \n",
       "1            0.813452          0.814631         0.000739  \n",
       "2            0.812500          0.813250         0.000687  \n",
       "3            0.812917          0.813393         0.001222  \n",
       "4            0.812798          0.813381         0.001359  "
      ]
     },
     "execution_count": 45,
     "metadata": {},
     "output_type": "execute_result"
    }
   ],
   "source": [
    "scores = rf.cv_results_\n",
    "pd.DataFrame(scores).head()"
   ]
  },
  {
   "cell_type": "code",
   "execution_count": 46,
   "metadata": {},
   "outputs": [
    {
     "data": {
      "image/png": "[encoded data removed]",
      "text/plain": [
       "<Figure size 1008x576 with 1 Axes>"
      ]
     },
     "metadata": {
      "needs_background": "light"
     },
     "output_type": "display_data"
    }
   ],
   "source": [
    "plt.figure(figsize=(14,8))\n",
    "plt.plot(scores[\"param_min_samples_split\"], \n",
    "         scores[\"mean_train_score\"], \n",
    "         label=\"training accuracy\")\n",
    "plt.plot(scores[\"param_min_samples_split\"], \n",
    "         scores[\"mean_test_score\"], \n",
    "         label=\"test accuracy\")\n",
    "plt.xlabel(\"min_samples_split\")\n",
    "plt.ylabel(\"Accuracy\")\n",
    "plt.legend()\n",
    "plt.show()"
   ]
  },
  {
   "cell_type": "code",
   "execution_count": 47,
   "metadata": {},
   "outputs": [],
   "source": [
    "param_grid = {\n",
    "    'max_depth': [4,8,10],\n",
    "    'min_samples_leaf': range(100, 150, 100),\n",
    "    'min_samples_split': range(200, 250, 50),\n",
    "    'n_estimators': [100,1000, 300], \n",
    "    'max_features': [5,10,15,20]\n",
    "}\n",
    "\n",
    "rf = RandomForestClassifier()\n",
    "\n",
    "grid_search = GridSearchCV(estimator = rf, param_grid = param_grid, \n",
    "                          cv = 3, n_jobs = -1,verbose = 1)"
   ]
  },
  {
   "cell_type": "code",
   "execution_count": 48,
   "metadata": {},
   "outputs": [
    {
     "name": "stdout",
     "output_type": "stream",
     "text": [
      "Fitting 3 folds for each of 36 candidates, totalling 108 fits\n"
     ]
    },
    {
     "name": "stderr",
     "output_type": "stream",
     "text": [
      "[Parallel(n_jobs=-1)]: Using backend LokyBackend with 12 concurrent workers.\n",
      "[Parallel(n_jobs=-1)]: Done  26 tasks      | elapsed:   29.3s\n",
      "[Parallel(n_jobs=-1)]: Done 108 out of 108 | elapsed:  4.0min finished\n"
     ]
    },
    {
     "data": {
      "text/plain": [
       "GridSearchCV(cv=3, estimator=RandomForestClassifier(), n_jobs=-1,\n",
       "             param_grid={'max_depth': [4, 8, 10],\n",
       "                         'max_features': [5, 10, 15, 20],\n",
       "                         'min_samples_leaf': range(100, 150, 100),\n",
       "                         'min_samples_split': range(200, 250, 50),\n",
       "                         'n_estimators': [100, 1000, 300]},\n",
       "             verbose=1)"
      ]
     },
     "execution_count": 48,
     "metadata": {},
     "output_type": "execute_result"
    }
   ],
   "source": [
    "grid_search.fit(X_train,y_train)"
   ]
  },
  {
   "cell_type": "code",
   "execution_count": 50,
   "metadata": {},
   "outputs": [
    {
     "data": {
      "text/plain": [
       "{'max_depth': 8,\n",
       " 'max_features': 10,\n",
       " 'min_samples_leaf': 100,\n",
       " 'min_samples_split': 200,\n",
       " 'n_estimators': 300}"
      ]
     },
     "execution_count": 50,
     "metadata": {},
     "output_type": "execute_result"
    }
   ],
   "source": [
    "grid_search.best_score_\n",
    "grid_search.best_params_"
   ]
  },
  {
   "cell_type": "code",
   "execution_count": 51,
   "metadata": {},
   "outputs": [],
   "source": [
    "from sklearn.ensemble import RandomForestClassifier\n",
    "rfc = RandomForestClassifier(bootstrap=True,max_depth=8,min_samples_leaf=100,min_samples_split=200,max_features=10,n_estimators=300)\n"
   ]
  },
  {
   "cell_type": "code",
   "execution_count": 52,
   "metadata": {},
   "outputs": [
    {
     "data": {
      "text/plain": [
       "RandomForestClassifier(max_depth=8, max_features=10, min_samples_leaf=100,\n",
       "                       min_samples_split=200, n_estimators=300)"
      ]
     },
     "execution_count": 52,
     "metadata": {},
     "output_type": "execute_result"
    }
   ],
   "source": [
    "rfc.fit(X_train,y_train)"
   ]
  },
  {
   "cell_type": "code",
   "execution_count": 53,
   "metadata": {},
   "outputs": [],
   "source": [
    "predictions = rfc.predict(X_test)"
   ]
  },
  {
   "cell_type": "code",
   "execution_count": 58,
   "metadata": {},
   "outputs": [],
   "source": [
    "from sklearn.metrics import classification_report,confusion_matrix,accuracy_score"
   ]
  },
  {
   "cell_type": "code",
   "execution_count": 56,
   "metadata": {},
   "outputs": [
    {
     "name": "stdout",
     "output_type": "stream",
     "text": [
      "              precision    recall  f1-score   support\n",
      "\n",
      "           0       0.83      0.95      0.89      6927\n",
      "           1       0.70      0.36      0.48      2073\n",
      "\n",
      "    accuracy                           0.82      9000\n",
      "   macro avg       0.77      0.66      0.68      9000\n",
      "weighted avg       0.80      0.82      0.79      9000\n",
      "\n"
     ]
    }
   ],
   "source": [
    "print(classification_report(y_test,predictions))"
   ]
  },
  {
   "cell_type": "code",
   "execution_count": 57,
   "metadata": {},
   "outputs": [
    {
     "name": "stdout",
     "output_type": "stream",
     "text": [
      "[[6602  325]\n",
      " [1317  756]]\n"
     ]
    }
   ],
   "source": [
    "print(confusion_matrix(y_test,predictions))"
   ]
  },
  {
   "cell_type": "code",
   "execution_count": 59,
   "metadata": {},
   "outputs": [
    {
     "name": "stdout",
     "output_type": "stream",
     "text": [
      "0.8175555555555556\n"
     ]
    }
   ],
   "source": [
    "print(accuracy_score(y_test,predictions))"
   ]
  },
  {
   "cell_type": "code",
   "execution_count": null,
   "metadata": {},
   "outputs": [],
   "source": []
  }
 ],
 "metadata": {
  "kernelspec": {
   "display_name": "Python 3",
   "language": "python",
   "name": "python3"
  },
  "language_info": {
   "codemirror_mode": {
    "name": "ipython",
    "version": 3
   },
   "file_extension": ".py",
   "mimetype": "text/x-python",
   "name": "python",
   "nbconvert_exporter": "python",
   "pygments_lexer": "ipython3",
   "version": "3.6.10"
  }
 },
 "nbformat": 4,
 "nbformat_minor": 4
}
